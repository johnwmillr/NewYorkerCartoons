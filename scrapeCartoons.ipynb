{
 "cells": [
  {
   "cell_type": "markdown",
   "metadata": {},
   "source": [
    "# Download New Yorker cartoons\n",
    "\n",
    "We'll be scraping images and captions from their [Random cartoon page](https://www.newyorker.com/cartoons/random/)."
   ]
  },
  {
   "cell_type": "code",
   "execution_count": 48,
   "metadata": {},
   "outputs": [],
   "source": [
    "import requests\n",
    "from requests.exceptions import Timeout\n",
    "import urllib.request\n",
    "import html\n",
    "import time\n",
    "import json"
   ]
  },
  {
   "cell_type": "markdown",
   "metadata": {},
   "source": [
    "## Write a class to handle the GET requests to NewYorker.com"
   ]
  },
  {
   "cell_type": "code",
   "execution_count": 272,
   "metadata": {},
   "outputs": [],
   "source": [
    "class Scraper(object):\n",
    "    \"\"\"Scrape cartoons from The New Yorker random cartoon page\"\"\"\n",
    "\n",
    "    # Create a persistent requests connection\n",
    "    _session = requests.Session()\n",
    "    _session.headers = {'application': 'PyYorker',\n",
    "                        'If-None-Match': None,\n",
    "                        'Accept': '*/*',\n",
    "                        'Accept-Encoding': 'gzip, deflate, br',\n",
    "                        'Connection': 'keep-alive',\n",
    "                        'DNT': '1',\n",
    "                        'Host': 'www.newyorker.com',\n",
    "                        'Referer': 'https://www.newyorker.com/cartoons/random/',\n",
    "                        'User-Agent': 'Mozilla/5.0 (Macintosh; Intel Mac OS X 10_13_6) AppleWebKit/537.36 (KHTML, like Gecko) Chrome/71.0.3578.98 Safari/537.36'}\n",
    "    _SLEEP_MIN = 0.2  # Enforce minimum wait time between API calls (seconds)\n",
    "\n",
    "    def __init__(self, timeout=5, sleep_time=0.5):\n",
    "        \"\"\" Scraper Constructor\n",
    "\n",
    "        :param timeout: time before quitting on response (seconds)\n",
    "        :param sleep_time: time to wait between requests\n",
    "        \"\"\"\n",
    "\n",
    "        self.api_root = \"https://www.newyorker.com\"\n",
    "        self.timeout = timeout\n",
    "        self.sleep_time = sleep_time\n",
    "\n",
    "    def _make_request(self, path):\n",
    "        \"\"\"Make a request to the API\"\"\"\n",
    "        uri = self.api_root + path\n",
    "        \n",
    "        # Make the request\n",
    "        response = None\n",
    "        try:\n",
    "            response = self._session.request(\"GET\", uri, timeout=self.timeout)\n",
    "            self._session.headers['If-None-Match'] = response.headers['ETag']\n",
    "        except Timeout as e:\n",
    "            print(\"Timeout raised and caught:\\n{e}\".format(e=e))\n",
    "\n",
    "        # Enforce rate limiting\n",
    "        time.sleep(max(self._SLEEP_MIN, self.sleep_time))\n",
    "        return response\n",
    "\n",
    "    def get_random_cartoon(self):\n",
    "        \"\"\"Requests a random New Yorker cartoon\"\"\"\n",
    "        endpoint = \"/cartoons/random/randomAPI\"\n",
    "        return self._make_request(endpoint)\n",
    "    \n",
    "    def download_image(self, response):\n",
    "        \"\"\"Saves image to local directory from a URL\"\"\"\n",
    "        fn = f\"{response['id']}.{response['src'].split('.')[-1]}\"\n",
    "        urllib.request.urlretrieve(response['src'], f\"./images/{fn}\")\n",
    "        time.sleep(1)\n",
    "        return None\n",
    "\n",
    "    def format_cartoon_response(self, response):\n",
    "        \"\"\"Cleans up the cartoon response data\"\"\"\n",
    "        data = response.json()\n",
    "        for cartoon in data:\n",
    "            cartoon['caption_raw'] = cartoon['caption']\n",
    "            cartoon['caption'] = html.unescape(cartoon['caption_raw'])\n",
    "        return data\n",
    "    \n",
    "    def download_cartoons(self, num_cartoons, save_images=True):\n",
    "        \"\"\"Downloads random cartoons from The New Yorker\"\"\"\n",
    "        t0 = time.time()\n",
    "        cartoons, errors = [], []\n",
    "        max_errors = 3\n",
    "        while (len(cartoons) < num_cartoons) and (len(errors) < max_errors):\n",
    "            # Make a request to the random cartoon page\n",
    "            r = self.get_random_cartoon()\n",
    "            if (not r) and (r.status_code != 200):\n",
    "                errors.append(r)\n",
    "                print(f\"ERROR: {r.status_code}\")\n",
    "                time.sleep(10)\n",
    "                continue\n",
    "                \n",
    "            # Add cartoon info (captions, URLs, etc.) to list\n",
    "            formatted = self.format_cartoon_response(r)\n",
    "            cartoons.extend(formatted)\n",
    "            print(f\"({len(cartoons)}): {cartoons[-1]['caption']}\\n\")\n",
    "\n",
    "            # Download the cartoon images and save locally\n",
    "            if save_images:\n",
    "                [self.download_image(cartoon) for cartoon in formatted]\n",
    "\n",
    "        # Save the cartoon info locally\n",
    "        with open(\"cartoons.json\", \"w\") as outfile:\n",
    "            json.dump(cartoons, outfile)\n",
    "        elapsed = time.time() - t0\n",
    "        print(f\"Time elapsed: {elapsed / 60:.2f} minutes.\")                      \n",
    "        return cartoons, errors"
   ]
  },
  {
   "cell_type": "markdown",
   "metadata": {},
   "source": [
    "## Test out the scraper"
   ]
  },
  {
   "cell_type": "code",
   "execution_count": 110,
   "metadata": {},
   "outputs": [],
   "source": [
    "# Create an instance of the cartoon scraper\n",
    "scraper = Scraper(sleep_time=2)"
   ]
  },
  {
   "cell_type": "code",
   "execution_count": 83,
   "metadata": {},
   "outputs": [
    {
     "data": {
      "text/plain": [
       "<Response [200]>"
      ]
     },
     "execution_count": 83,
     "metadata": {},
     "output_type": "execute_result"
    }
   ],
   "source": [
    "# Make a single request for a random cartoon\n",
    "r = scraper.get_random_cartoon()\n",
    "r"
   ]
  },
  {
   "cell_type": "code",
   "execution_count": 85,
   "metadata": {},
   "outputs": [
    {
     "data": {
      "text/plain": [
       "{'id': '2812527',\n",
       " 'pn': 'a18413',\n",
       " 'date': '08/29/2014 18:16',\n",
       " 'src': 'https://www.newyorker.com/wp-content/uploads/2014/09/140908_a18413-600.jpg',\n",
       " 'caption': '“As you go through life, take time to monetize the roses.”',\n",
       " 'cartoon_bank_url': 'http://www.condenaststore.com/-sp/_i12246451_.htm',\n",
       " 'caption_raw': '&ldquo;As you go through life, take time to monetize the roses.&rdquo;'}"
      ]
     },
     "execution_count": 85,
     "metadata": {},
     "output_type": "execute_result"
    }
   ],
   "source": [
    "scraper.format_cartoon_response(r)[0]"
   ]
  },
  {
   "cell_type": "markdown",
   "metadata": {},
   "source": [
    "## Download many cartoons"
   ]
  },
  {
   "cell_type": "code",
   "execution_count": null,
   "metadata": {
    "scrolled": true
   },
   "outputs": [],
   "source": [
    "cartoons, errors = scraper.download_cartoons(num_cartoons=10_000, save_images=True)\n",
    "cartoons[-1]"
   ]
  },
  {
   "cell_type": "markdown",
   "metadata": {},
   "source": [
    "# Read in cartoons as a DataFrame"
   ]
  },
  {
   "cell_type": "code",
   "execution_count": 113,
   "metadata": {},
   "outputs": [],
   "source": [
    "import pandas as pd"
   ]
  },
  {
   "cell_type": "code",
   "execution_count": 127,
   "metadata": {},
   "outputs": [
    {
     "name": "stdout",
     "output_type": "stream",
     "text": [
      "(733, 6)\n"
     ]
    },
    {
     "data": {
      "text/html": [
       "<div>\n",
       "<style scoped>\n",
       "    .dataframe tbody tr th:only-of-type {\n",
       "        vertical-align: middle;\n",
       "    }\n",
       "\n",
       "    .dataframe tbody tr th {\n",
       "        vertical-align: top;\n",
       "    }\n",
       "\n",
       "    .dataframe thead th {\n",
       "        text-align: right;\n",
       "    }\n",
       "</style>\n",
       "<table border=\"1\" class=\"dataframe\">\n",
       "  <thead>\n",
       "    <tr style=\"text-align: right;\">\n",
       "      <th></th>\n",
       "      <th>caption</th>\n",
       "      <th>caption_raw</th>\n",
       "      <th>cartoon_bank_url</th>\n",
       "      <th>date</th>\n",
       "      <th>pn</th>\n",
       "      <th>src</th>\n",
       "    </tr>\n",
       "    <tr>\n",
       "      <th>id</th>\n",
       "      <th></th>\n",
       "      <th></th>\n",
       "      <th></th>\n",
       "      <th></th>\n",
       "      <th></th>\n",
       "      <th></th>\n",
       "    </tr>\n",
       "  </thead>\n",
       "  <tbody>\n",
       "    <tr>\n",
       "      <th>1557301</th>\n",
       "      <td>“Keep in mind that it was put there by the sha...</td>\n",
       "      <td>&amp;ldquo;Keep in mind that it was put there by t...</td>\n",
       "      <td></td>\n",
       "      <td>2014-07-14 00:26:00</td>\n",
       "      <td>a18170</td>\n",
       "      <td>https://www.newyorker.com/wp-content/uploads/2...</td>\n",
       "    </tr>\n",
       "    <tr>\n",
       "      <th>2877815</th>\n",
       "      <td>“I'm sure you're all familiar with the concept...</td>\n",
       "      <td>&amp;ldquo;I'm sure you're all familiar with the c...</td>\n",
       "      <td></td>\n",
       "      <td>2014-10-27 17:06:00</td>\n",
       "      <td>aa20</td>\n",
       "      <td>https://www.newyorker.com/wp-content/uploads/1...</td>\n",
       "    </tr>\n",
       "    <tr>\n",
       "      <th>2710693</th>\n",
       "      <td>“Can we please go back to playing on our phones?”</td>\n",
       "      <td>&amp;ldquo;Can we please go back to playing on our...</td>\n",
       "      <td>http://www.condenaststore.com/-sp/_i12228701_.htm</td>\n",
       "      <td>2014-08-15 17:22:00</td>\n",
       "      <td>a18471</td>\n",
       "      <td>https://www.newyorker.com/wp-content/uploads/2...</td>\n",
       "    </tr>\n",
       "  </tbody>\n",
       "</table>\n",
       "</div>"
      ],
      "text/plain": [
       "                                                   caption  \\\n",
       "id                                                           \n",
       "1557301  “Keep in mind that it was put there by the sha...   \n",
       "2877815  “I'm sure you're all familiar with the concept...   \n",
       "2710693  “Can we please go back to playing on our phones?”   \n",
       "\n",
       "                                               caption_raw  \\\n",
       "id                                                           \n",
       "1557301  &ldquo;Keep in mind that it was put there by t...   \n",
       "2877815  &ldquo;I'm sure you're all familiar with the c...   \n",
       "2710693  &ldquo;Can we please go back to playing on our...   \n",
       "\n",
       "                                          cartoon_bank_url  \\\n",
       "id                                                           \n",
       "1557301                                                      \n",
       "2877815                                                      \n",
       "2710693  http://www.condenaststore.com/-sp/_i12228701_.htm   \n",
       "\n",
       "                       date      pn  \\\n",
       "id                                    \n",
       "1557301 2014-07-14 00:26:00  a18170   \n",
       "2877815 2014-10-27 17:06:00    aa20   \n",
       "2710693 2014-08-15 17:22:00  a18471   \n",
       "\n",
       "                                                       src  \n",
       "id                                                          \n",
       "1557301  https://www.newyorker.com/wp-content/uploads/2...  \n",
       "2877815  https://www.newyorker.com/wp-content/uploads/1...  \n",
       "2710693  https://www.newyorker.com/wp-content/uploads/2...  "
      ]
     },
     "execution_count": 127,
     "metadata": {},
     "output_type": "execute_result"
    }
   ],
   "source": [
    "df = pd.read_json(\"./cartoons.json\")\n",
    "df.drop_duplicates(inplace=True)\n",
    "df.set_index(\"id\", inplace=True)\n",
    "print(df.shape)\n",
    "df.head(3)"
   ]
  },
  {
   "cell_type": "code",
   "execution_count": null,
   "metadata": {},
   "outputs": [],
   "source": [
    "\n",
    "\n",
    "\n",
    "\n",
    "\n",
    "\n",
    "\n",
    "\n",
    "\n",
    "\n",
    "\n",
    "\n",
    "\n",
    "\n",
    "\n",
    "\n",
    "\n",
    "\n",
    "\n",
    "\n",
    "\n",
    "\n"
   ]
  }
 ],
 "metadata": {
  "kernelspec": {
   "display_name": "Python 3",
   "language": "python",
   "name": "python3"
  },
  "language_info": {
   "codemirror_mode": {
    "name": "ipython",
    "version": 3
   },
   "file_extension": ".py",
   "mimetype": "text/x-python",
   "name": "python",
   "nbconvert_exporter": "python",
   "pygments_lexer": "ipython3",
   "version": "3.7.1"
  }
 },
 "nbformat": 4,
 "nbformat_minor": 2
}
