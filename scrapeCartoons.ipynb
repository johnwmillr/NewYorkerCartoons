{
 "cells": [
  {
   "cell_type": "markdown",
   "metadata": {},
   "source": [
    "# Download New Yorker cartoons\n",
    "\n",
    "We'll be scraping images and captions from their [Random cartoon page](https://www.newyorker.com/cartoons/random/)."
   ]
  },
  {
   "cell_type": "code",
   "execution_count": 48,
   "metadata": {},
   "outputs": [],
   "source": [
    "import requests\n",
    "from requests.exceptions import Timeout\n",
    "import html\n",
    "import time\n",
    "import json"
   ]
  },
  {
   "cell_type": "markdown",
   "metadata": {},
   "source": [
    "## Write a class to handle the GET requests to NewYorker.com"
   ]
  },
  {
   "cell_type": "code",
   "execution_count": 90,
   "metadata": {},
   "outputs": [],
   "source": [
    "class Scraper(object):\n",
    "    \"\"\"Scrape cartoons from The New Yorker random cartoon page\"\"\"\n",
    "\n",
    "    # Create a persistent requests connection\n",
    "    _session = requests.Session()\n",
    "    _session.headers = {'application': 'PyToons',\n",
    "                       'User-Agent': 'Mozilla/5.0 (Macintosh; Intel Mac OS X 10_13_6) AppleWebKit/537.36 (KHTML, like Gecko) Chrome/71.0.3578.98 Safari/537.36'}\n",
    "    _SLEEP_MIN = 0.2  # Enforce minimum wait time between API calls (seconds)\n",
    "\n",
    "    def __init__(self, timeout=5, sleep_time=0.5):\n",
    "        \"\"\" Scraper Constructor\n",
    "\n",
    "        :param timeout: time before quitting on response (seconds)\n",
    "        :param sleep_time: time to wait between requests\n",
    "        \"\"\"\n",
    "\n",
    "        self.api_root = \"https://www.newyorker.com\"\n",
    "        self.timeout = timeout\n",
    "        self.sleep_time = sleep_time\n",
    "\n",
    "    def _make_request(self, path, method='GET'):\n",
    "        \"\"\"Make a request to the API\"\"\"\n",
    "        uri = self.api_root + path\n",
    "        \n",
    "        # Make the request\n",
    "        response = None\n",
    "        try:\n",
    "            response = self._session.request(method, uri, timeout=self.timeout)\n",
    "        except Timeout as e:\n",
    "            print(\"Timeout raised and caught:\\n{e}\".format(e=e))\n",
    "\n",
    "        # Enforce rate limiting\n",
    "        time.sleep(max(self._SLEEP_MIN, self.sleep_time))\n",
    "        return response\n",
    "\n",
    "    def get_random_cartoon(self):\n",
    "        \"\"\"Requests a random New Yorker cartoon\"\"\"\n",
    "        endpoint = \"/cartoons/random/randomAPI\"\n",
    "        return self._make_request(endpoint)\n",
    "\n",
    "    def format_cartoon_response(self, response):\n",
    "        \"\"\"Cleans up the cartoon response data\"\"\"\n",
    "        data = response.json()\n",
    "        for cartoon in data:\n",
    "            cartoon['caption_raw'] = cartoon['caption']\n",
    "            cartoon['caption'] = html.unescape(cartoon['caption_raw'])\n",
    "        return data\n",
    "    \n",
    "    def download_cartoons(self, num_cartoons):\n",
    "        \"\"\"Downloads random cartoons from The New Yorker\"\"\"\n",
    "        cartoons = []\n",
    "        error_count, max_errors = 0, 3\n",
    "        t0 = time.time()\n",
    "        while (len(cartoons) < num_cartoons) and (error_count < max_errors):\n",
    "            r = self.get_random_cartoon()\n",
    "            if r and r.status_code == 200:\n",
    "                cartoons.extend(self.format_cartoon_response(r))\n",
    "                print(f\"({len(cartoons)}): {cartoons[-1]['caption']}\\n\")\n",
    "            else:\n",
    "                error_count += 1\n",
    "        elapsed = time.time() - t0\n",
    "        print(f\"Time elapsed: {elapsed / 60:.2f} minutes.\")\n",
    "        return cartoons"
   ]
  },
  {
   "cell_type": "markdown",
   "metadata": {},
   "source": [
    "## Test out the scraper"
   ]
  },
  {
   "cell_type": "code",
   "execution_count": 87,
   "metadata": {},
   "outputs": [],
   "source": [
    "# Create an instance of the cartoon scraper\n",
    "scraper = Scraper(sleep_time=1)"
   ]
  },
  {
   "cell_type": "code",
   "execution_count": 83,
   "metadata": {},
   "outputs": [
    {
     "data": {
      "text/plain": [
       "<Response [200]>"
      ]
     },
     "execution_count": 83,
     "metadata": {},
     "output_type": "execute_result"
    }
   ],
   "source": [
    "# Make a single request for a random cartoon\n",
    "r = scraper.get_random_cartoon()\n",
    "r"
   ]
  },
  {
   "cell_type": "code",
   "execution_count": 85,
   "metadata": {},
   "outputs": [
    {
     "data": {
      "text/plain": [
       "{'id': '2812527',\n",
       " 'pn': 'a18413',\n",
       " 'date': '08/29/2014 18:16',\n",
       " 'src': 'https://www.newyorker.com/wp-content/uploads/2014/09/140908_a18413-600.jpg',\n",
       " 'caption': '“As you go through life, take time to monetize the roses.”',\n",
       " 'cartoon_bank_url': 'http://www.condenaststore.com/-sp/_i12246451_.htm',\n",
       " 'caption_raw': '&ldquo;As you go through life, take time to monetize the roses.&rdquo;'}"
      ]
     },
     "execution_count": 85,
     "metadata": {},
     "output_type": "execute_result"
    }
   ],
   "source": [
    "scraper.format_cartoon_response(r)[0]"
   ]
  },
  {
   "cell_type": "markdown",
   "metadata": {},
   "source": [
    "## Download many cartoons"
   ]
  },
  {
   "cell_type": "code",
   "execution_count": 88,
   "metadata": {},
   "outputs": [
    {
     "name": "stdout",
     "output_type": "stream",
     "text": [
      "(2): “Same thing every September. He begins to doubt the existence of man, then football season begins, and he snaps out of it.”\n",
      "\n",
      "(4): “Wow—she is stunning.”\n",
      "\n",
      "(6): “I do my part.”\n",
      "\n",
      "(8): “Do you mean good, or good for a pumpkin?”\n",
      "\n",
      "(10): “Don't you want to have parents who can brag about their children?”\n",
      "\n",
      "Time elapsed: 0.06 minutes.\n"
     ]
    },
    {
     "data": {
      "text/plain": [
       "{'id': '2659342',\n",
       " 'pn': 'a18393',\n",
       " 'date': '07/25/2014 15:36',\n",
       " 'src': 'https://www.newyorker.com/wp-content/uploads/2014/07/a18393.png',\n",
       " 'caption': \"“Don't you want to have parents who can brag about their children?”\",\n",
       " 'cartoon_bank_url': '',\n",
       " 'caption_raw': \"&ldquo;Don't you want to have parents who can brag about their children?&rdquo;\"}"
      ]
     },
     "execution_count": 88,
     "metadata": {},
     "output_type": "execute_result"
    }
   ],
   "source": [
    "cartoons = scraper.download_cartoons(num_cartoons=10)\n",
    "cartoons[-1]"
   ]
  },
  {
   "cell_type": "code",
   "execution_count": null,
   "metadata": {},
   "outputs": [],
   "source": [
    "\n",
    "\n",
    "\n",
    "\n",
    "\n",
    "\n",
    "\n",
    "\n",
    "\n",
    "\n",
    "\n",
    "\n",
    "\n",
    "\n",
    "\n",
    "\n",
    "\n",
    "\n",
    "\n",
    "\n",
    "\n",
    "\n"
   ]
  }
 ],
 "metadata": {
  "kernelspec": {
   "display_name": "Python 3",
   "language": "python",
   "name": "python3"
  },
  "language_info": {
   "codemirror_mode": {
    "name": "ipython",
    "version": 3
   },
   "file_extension": ".py",
   "mimetype": "text/x-python",
   "name": "python",
   "nbconvert_exporter": "python",
   "pygments_lexer": "ipython3",
   "version": "3.7.1"
  }
 },
 "nbformat": 4,
 "nbformat_minor": 2
}
