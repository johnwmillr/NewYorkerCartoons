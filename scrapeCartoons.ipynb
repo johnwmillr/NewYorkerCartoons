{
 "cells": [
  {
   "cell_type": "markdown",
   "metadata": {},
   "source": [
    "# Download New Yorker cartoons\n",
    "\n",
    "We'll be scraping images and captions from their [Random cartoon page](https://www.newyorker.com/cartoons/random/)."
   ]
  },
  {
   "cell_type": "code",
   "execution_count": 48,
   "metadata": {},
   "outputs": [],
   "source": [
    "import requests\n",
    "from requests.exceptions import Timeout\n",
    "import html\n",
    "import time\n",
    "import json"
   ]
  },
  {
   "cell_type": "markdown",
   "metadata": {},
   "source": [
    "## Write a class to handle the GET requests to NewYorker.com"
   ]
  },
  {
   "cell_type": "code",
   "execution_count": 75,
   "metadata": {},
   "outputs": [],
   "source": [
    "class Scraper(object):\n",
    "    \"\"\"Scrape cartoons from The New Yorker random cartoon page\"\"\"\n",
    "\n",
    "    # Create a persistent requests connection\n",
    "    _session = requests.Session()\n",
    "    _session.headers = {'application': 'PyToons',\n",
    "                       'User-Agent': 'Mozilla/5.0 (Macintosh; Intel Mac OS X 10_13_6) AppleWebKit/537.36 (KHTML, like Gecko) Chrome/71.0.3578.98 Safari/537.36'}\n",
    "    _SLEEP_MIN = 0.2  # Enforce minimum wait time between API calls (seconds)\n",
    "\n",
    "    def __init__(self, timeout=5, sleep_time=0.5):\n",
    "        \"\"\" Scraper Constructor\n",
    "\n",
    "        :param timeout: time before quitting on response (seconds)\n",
    "        :param sleep_time: time to wait between requests\n",
    "        \"\"\"\n",
    "\n",
    "        self.api_root = \"https://www.newyorker.com\"\n",
    "        self.timeout = timeout\n",
    "        self.sleep_time = sleep_time\n",
    "\n",
    "    def _make_request(self, path, method='GET'):\n",
    "        \"\"\"Make a request to the API\"\"\"\n",
    "        uri = self.api_root + path\n",
    "        \n",
    "        # Make the request\n",
    "        response = None\n",
    "        try:\n",
    "            response = self._session.request(method, uri, timeout=self.timeout)\n",
    "        except Timeout as e:\n",
    "            print(\"Timeout raised and caught:\\n{e}\".format(e=e))\n",
    "\n",
    "        # Enforce rate limiting\n",
    "        time.sleep(max(self._SLEEP_MIN, self.sleep_time))\n",
    "        return response\n",
    "\n",
    "    def get_random_cartoon(self):\n",
    "        \"\"\"Requests a random New Yorker cartoon\"\"\"\n",
    "        endpoint = \"/cartoons/random/randomAPI\"\n",
    "        return self._make_request(endpoint)\n",
    "\n",
    "    def format_cartoon_response(self, response):\n",
    "        \"\"\"Cleans up the cartoon response data\"\"\"\n",
    "        data = response.json()\n",
    "        for cartoon in data:\n",
    "            cartoon['caption_raw'] = cartoon['caption']\n",
    "            cartoon['caption'] = html.unescape(cartoon['caption_raw'])\n",
    "        return data"
   ]
  },
  {
   "cell_type": "markdown",
   "metadata": {},
   "source": [
    "## Test out the scraper"
   ]
  },
  {
   "cell_type": "code",
   "execution_count": 76,
   "metadata": {},
   "outputs": [],
   "source": [
    "# Create an instance of the cartoon scraper\n",
    "scraper = Scraper()"
   ]
  },
  {
   "cell_type": "code",
   "execution_count": 77,
   "metadata": {},
   "outputs": [
    {
     "data": {
      "text/plain": [
       "<Response [200]>"
      ]
     },
     "execution_count": 77,
     "metadata": {},
     "output_type": "execute_result"
    }
   ],
   "source": [
    "# Get a random cartoon\n",
    "r = scraper.get_random_cartoon()\n",
    "r"
   ]
  },
  {
   "cell_type": "code",
   "execution_count": 78,
   "metadata": {},
   "outputs": [
    {
     "data": {
      "text/plain": [
       "[{'id': '1556841',\n",
       "  'pn': 'diffee-2004-08-30',\n",
       "  'date': '07/14/2014 00:24',\n",
       "  'src': 'https://www.newyorker.com/wp-content/uploads/2014/04/140421_diffee-2004-08-30-600.jpg',\n",
       "  'caption': \"“I don't think you're getting enough stress.”\",\n",
       "  'cartoon_bank_url': '',\n",
       "  'caption_raw': \"&ldquo;I don't think you're getting enough stress.&rdquo;\"},\n",
       " {'id': '2805829',\n",
       "  'pn': 'a10763',\n",
       "  'date': '08/25/2014 14:34',\n",
       "  'src': 'https://www.newyorker.com/wp-content/uploads/2005/09/050912_a10763-600.jpg',\n",
       "  'caption': '“I had my own blog for a while, but I decided to go back to just pointless, incessant barking.”',\n",
       "  'cartoon_bank_url': '',\n",
       "  'caption_raw': '&ldquo;I had my own blog for a while, but I decided to go back to just pointless, incessant barking.&rdquo;'}]"
      ]
     },
     "execution_count": 78,
     "metadata": {},
     "output_type": "execute_result"
    }
   ],
   "source": [
    "scraper.format_cartoon_response(r)"
   ]
  },
  {
   "cell_type": "code",
   "execution_count": null,
   "metadata": {},
   "outputs": [],
   "source": [
    "\n",
    "\n",
    "\n",
    "\n",
    "\n",
    "\n",
    "\n",
    "\n",
    "\n",
    "\n",
    "\n",
    "\n",
    "\n",
    "\n",
    "\n",
    "\n",
    "\n",
    "\n",
    "\n",
    "\n",
    "\n",
    "\n"
   ]
  }
 ],
 "metadata": {
  "kernelspec": {
   "display_name": "Python 3",
   "language": "python",
   "name": "python3"
  },
  "language_info": {
   "codemirror_mode": {
    "name": "ipython",
    "version": 3
   },
   "file_extension": ".py",
   "mimetype": "text/x-python",
   "name": "python",
   "nbconvert_exporter": "python",
   "pygments_lexer": "ipython3",
   "version": "3.7.1"
  }
 },
 "nbformat": 4,
 "nbformat_minor": 2
}
