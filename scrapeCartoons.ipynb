{
 "cells": [
  {
   "cell_type": "markdown",
   "metadata": {},
   "source": [
    "# Download New Yorker cartoons\n",
    "\n",
    "We'll be scraping images and captions from their [Random cartoon page](https://www.newyorker.com/cartoons/random/)."
   ]
  },
  {
   "cell_type": "code",
   "execution_count": 19,
   "metadata": {},
   "outputs": [],
   "source": [
    "import requests\n",
    "from requests.exceptions import Timeout\n",
    "import time\n",
    "import json"
   ]
  },
  {
   "cell_type": "markdown",
   "metadata": {},
   "source": [
    "## Write a class to handle the GET requests to NewYorker.com"
   ]
  },
  {
   "cell_type": "code",
   "execution_count": 14,
   "metadata": {},
   "outputs": [],
   "source": [
    "class Scraper(object):\n",
    "    \"\"\"Scrape cartoons from The New Yorker random cartoon page\"\"\"\n",
    "\n",
    "    # Create a persistent requests connection\n",
    "    _session = requests.Session()\n",
    "    _session.headers = {'application': 'PyToons',\n",
    "                       'User-Agent': 'Mozilla/5.0 (Macintosh; Intel Mac OS X 10_13_6) AppleWebKit/537.36 (KHTML, like Gecko) Chrome/71.0.3578.98 Safari/537.36'}\n",
    "    _SLEEP_MIN = 0.2  # Enforce minimum wait time between API calls (seconds)\n",
    "\n",
    "    def __init__(self, timeout=5, sleep_time=0.5):\n",
    "        \"\"\" Scraper Constructor\n",
    "\n",
    "        :param timeout: time before quitting on response (seconds)\n",
    "        :param sleep_time: time to wait between requests\n",
    "        \"\"\"\n",
    "\n",
    "        self.api_root = \"https://www.newyorker.com\"\n",
    "        self.timeout = timeout\n",
    "        self.sleep_time = sleep_time\n",
    "\n",
    "    def _make_request(self, path, method='GET'):\n",
    "        \"\"\"Make a request to the API\"\"\"\n",
    "        uri = self.api_root + path\n",
    "        \n",
    "        # Make the request\n",
    "        response = None\n",
    "        try:\n",
    "            response = self._session.request(method, uri, timeout=self.timeout)\n",
    "        except Timeout as e:\n",
    "            print(\"Timeout raised and caught:\\n{e}\".format(e=e))\n",
    "\n",
    "        # Enforce rate limiting\n",
    "        time.sleep(max(self._SLEEP_MIN, self.sleep_time))\n",
    "        return response\n",
    "\n",
    "    def get_random_cartoon(self):\n",
    "        \"\"\"Requests a random New Yorker cartoon\"\"\"\n",
    "        endpoint = \"/cartoons/random/randomAPI\"\n",
    "        return self._make_request(endpoint)"
   ]
  },
  {
   "cell_type": "markdown",
   "metadata": {},
   "source": [
    "## Test out the scraper"
   ]
  },
  {
   "cell_type": "code",
   "execution_count": 15,
   "metadata": {},
   "outputs": [],
   "source": [
    "# Create an instance of the cartoon scraper\n",
    "scraper = Scraper()"
   ]
  },
  {
   "cell_type": "code",
   "execution_count": 37,
   "metadata": {},
   "outputs": [],
   "source": [
    "# Get a random cartoon\n",
    "r = scraper.get_random_cartoon()"
   ]
  },
  {
   "cell_type": "code",
   "execution_count": 41,
   "metadata": {},
   "outputs": [
    {
     "data": {
      "text/plain": [
       "[{'id': '1556571',\n",
       "  'pn': 'a18169',\n",
       "  'date': '07/14/2014 00:24',\n",
       "  'src': 'https://www.newyorker.com/wp-content/uploads/2014/04/140421_a18169-600.jpg',\n",
       "  'caption': '',\n",
       "  'cartoon_bank_url': ''},\n",
       " {'id': '2861305',\n",
       "  'pn': 'kaplan-2004-09-27',\n",
       "  'date': '10/10/2014 17:58',\n",
       "  'src': 'https://www.newyorker.com/wp-content/uploads/2014/10/141020_kaplan-2004-09-27-600.jpg',\n",
       "  'caption': '&ldquo;I knew Mary would dump me when my fleece got a little gray.&rdquo;',\n",
       "  'cartoon_bank_url': ''}]"
      ]
     },
     "execution_count": 41,
     "metadata": {},
     "output_type": "execute_result"
    }
   ],
   "source": [
    "data = r.json()\n",
    "data"
   ]
  },
  {
   "cell_type": "code",
   "execution_count": null,
   "metadata": {},
   "outputs": [],
   "source": [
    "\n",
    "\n",
    "\n",
    "\n",
    "\n",
    "\n",
    "\n",
    "\n",
    "\n",
    "\n",
    "\n",
    "\n",
    "\n",
    "\n",
    "\n",
    "\n",
    "\n",
    "\n",
    "\n",
    "\n",
    "\n",
    "\n"
   ]
  }
 ],
 "metadata": {
  "kernelspec": {
   "display_name": "Python 3",
   "language": "python",
   "name": "python3"
  },
  "language_info": {
   "codemirror_mode": {
    "name": "ipython",
    "version": 3
   },
   "file_extension": ".py",
   "mimetype": "text/x-python",
   "name": "python",
   "nbconvert_exporter": "python",
   "pygments_lexer": "ipython3",
   "version": "3.7.1"
  }
 },
 "nbformat": 4,
 "nbformat_minor": 2
}
