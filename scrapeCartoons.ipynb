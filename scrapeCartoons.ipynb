{
 "cells": [
  {
   "cell_type": "markdown",
   "metadata": {},
   "source": [
    "# Download New Yorker cartoons\n",
    "\n",
    "We'll be scraping images and captions from their [Random cartoon page](https://www.newyorker.com/cartoons/random/)."
   ]
  },
  {
   "cell_type": "code",
   "execution_count": 17,
   "metadata": {},
   "outputs": [],
   "source": [
    "import requests\n",
    "from requests.exceptions import Timeout\n",
    "import urllib.request\n",
    "import html\n",
    "import time\n",
    "import json"
   ]
  },
  {
   "cell_type": "markdown",
   "metadata": {},
   "source": [
    "## Write a class to handle the GET requests to NewYorker.com"
   ]
  },
  {
   "cell_type": "code",
   "execution_count": 27,
   "metadata": {},
   "outputs": [],
   "source": [
    "class Scraper(object):\n",
    "    \"\"\"Scrape cartoons from The New Yorker random cartoon page\"\"\"\n",
    "\n",
    "    # Create a persistent requests connection\n",
    "    _session = requests.Session()\n",
    "    _session.headers = {'application': 'PyYorker',\n",
    "                        'If-None-Match': None,\n",
    "                        'Accept': '*/*',\n",
    "                        'Accept-Encoding': 'gzip, deflate, br',\n",
    "                        'Connection': 'keep-alive',\n",
    "                        'DNT': '1',\n",
    "                        'Host': 'www.newyorker.com',\n",
    "                        'Referer': 'https://www.newyorker.com/cartoons/random/',\n",
    "                        'User-Agent': 'Mozilla/5.0 (Macintosh; Intel Mac OS X 10_13_6) AppleWebKit/537.36 (KHTML, like Gecko) Chrome/71.0.3578.98 Safari/537.36'}\n",
    "    _SLEEP_MIN = 0.2  # Enforce minimum wait time between API calls (seconds)\n",
    "\n",
    "    def __init__(self, timeout=5, sleep_time=0.5):\n",
    "        \"\"\" Scraper Constructor\n",
    "\n",
    "        :param timeout: time before quitting on response (seconds)\n",
    "        :param sleep_time: time to wait between requests\n",
    "        \"\"\"\n",
    "\n",
    "        self.api_root = \"https://www.newyorker.com\"\n",
    "        self.timeout = timeout\n",
    "        self.sleep_time = sleep_time\n",
    "\n",
    "    def _make_request(self, path):\n",
    "        \"\"\"Make a request to the API\"\"\"\n",
    "        uri = self.api_root + path\n",
    "        \n",
    "        # Make the request\n",
    "        response = None\n",
    "        try:\n",
    "            response = self._session.request(\"GET\", uri, timeout=self.timeout)\n",
    "            self._session.headers['If-None-Match'] = response.headers['ETag']\n",
    "        except Timeout as e:\n",
    "            print(\"Timeout raised and caught:\\n{e}\".format(e=e))\n",
    "\n",
    "        # Enforce rate limiting\n",
    "        time.sleep(max(self._SLEEP_MIN, self.sleep_time))\n",
    "        return response\n",
    "\n",
    "    def get_random_cartoon(self):\n",
    "        \"\"\"Requests a random New Yorker cartoon\"\"\"\n",
    "        endpoint = \"/cartoons/random/randomAPI\"\n",
    "        return self._make_request(endpoint)\n",
    "    \n",
    "    def download_image(self, response):\n",
    "        \"\"\"Saves image to local directory from a URL\"\"\"\n",
    "        fn = f\"{response['id']}.{response['src'].split('.')[-1]}\"\n",
    "        urllib.request.urlretrieve(response['src'], f\"./images/{fn}\")\n",
    "        time.sleep(1)\n",
    "        return None\n",
    "\n",
    "    def format_cartoon_response(self, response):\n",
    "        \"\"\"Cleans up the cartoon response data\"\"\"\n",
    "        data = response.json()\n",
    "        for cartoon in data:\n",
    "            cartoon['caption_raw'] = cartoon['caption']\n",
    "            cartoon['caption'] = html.unescape(cartoon['caption_raw'])\n",
    "        return data\n",
    "    \n",
    "    def download_cartoons(self, num_cartoons):\n",
    "        \"\"\"Downloads random cartoons from The New Yorker\"\"\"\n",
    "        t0 = time.time()\n",
    "        cartoons, errors = [], []\n",
    "        max_errors = 3\n",
    "        while (len(cartoons) < num_cartoons) and (len(errors) < max_errors):\n",
    "            # Make a request to the random cartoon page\n",
    "            r = self.get_random_cartoon()\n",
    "            if (not r) and (r.status_code != 200):\n",
    "                errors.append(r)\n",
    "                print(f\"ERROR: {r.status_code}\")\n",
    "                time.sleep(10)\n",
    "                continue\n",
    "                \n",
    "            # Add cartoon info (captions, URLs, etc.) to list\n",
    "            formatted = self.format_cartoon_response(r)\n",
    "            cartoons.extend(formatted)\n",
    "            \n",
    "            # Print a status message and save progress\n",
    "            if len(cartoons) % 10 == 0:\n",
    "                print(f\"({len(cartoons)}): {cartoons[-1]['caption']}\")\n",
    "                # Save the cartoon info locally\n",
    "                with open(\"cartoons.json\", \"w\") as outfile:\n",
    "                    json.dump(cartoons, outfile)\n",
    "\n",
    "        elapsed = time.time() - t0\n",
    "        print(f\"Time elapsed: {elapsed / 60:.2f} minutes.\")                      \n",
    "        return cartoons, errors"
   ]
  },
  {
   "cell_type": "markdown",
   "metadata": {},
   "source": [
    "## Test out the scraper"
   ]
  },
  {
   "cell_type": "code",
   "execution_count": 28,
   "metadata": {},
   "outputs": [],
   "source": [
    "# Create an instance of the cartoon scraper\n",
    "scraper = Scraper(sleep_time=3)"
   ]
  },
  {
   "cell_type": "code",
   "execution_count": 25,
   "metadata": {},
   "outputs": [
    {
     "data": {
      "text/plain": [
       "<Response [200]>"
      ]
     },
     "execution_count": 25,
     "metadata": {},
     "output_type": "execute_result"
    }
   ],
   "source": [
    "# Make a single request for a random cartoon\n",
    "r = scraper.get_random_cartoon()\n",
    "r"
   ]
  },
  {
   "cell_type": "code",
   "execution_count": 26,
   "metadata": {},
   "outputs": [
    {
     "data": {
      "text/plain": [
       "{'id': '2710703',\n",
       " 'pn': 'a18503',\n",
       " 'date': '08/15/2014 17:22',\n",
       " 'src': 'https://www.newyorker.com/wp-content/uploads/2014/08/140825_a18503-600.jpg',\n",
       " 'caption': \"“We'd prefer a beheading, but we've decided to sue you instead.”\",\n",
       " 'cartoon_bank_url': 'http://www.condenaststore.com/-sp/_i12228702_.htm',\n",
       " 'caption_raw': \"&ldquo;We'd prefer a beheading, but we've decided to sue you instead.&rdquo;\"}"
      ]
     },
     "execution_count": 26,
     "metadata": {},
     "output_type": "execute_result"
    }
   ],
   "source": [
    "scraper.format_cartoon_response(r)[0]"
   ]
  },
  {
   "cell_type": "markdown",
   "metadata": {},
   "source": [
    "## Download many cartoons"
   ]
  },
  {
   "cell_type": "code",
   "execution_count": null,
   "metadata": {
    "scrolled": true
   },
   "outputs": [],
   "source": [
    "cartoons, errors = scraper.download_cartoons(num_cartoons=10_000)\n",
    "cartoons[-1]"
   ]
  },
  {
   "cell_type": "markdown",
   "metadata": {},
   "source": [
    "# Read in cartoons as a DataFrame"
   ]
  },
  {
   "cell_type": "code",
   "execution_count": 30,
   "metadata": {},
   "outputs": [],
   "source": [
    "import pandas as pd"
   ]
  },
  {
   "cell_type": "code",
   "execution_count": 31,
   "metadata": {},
   "outputs": [
    {
     "name": "stdout",
     "output_type": "stream",
     "text": [
      "(1493, 6)\n"
     ]
    },
    {
     "data": {
      "text/html": [
       "<div>\n",
       "<style scoped>\n",
       "    .dataframe tbody tr th:only-of-type {\n",
       "        vertical-align: middle;\n",
       "    }\n",
       "\n",
       "    .dataframe tbody tr th {\n",
       "        vertical-align: top;\n",
       "    }\n",
       "\n",
       "    .dataframe thead th {\n",
       "        text-align: right;\n",
       "    }\n",
       "</style>\n",
       "<table border=\"1\" class=\"dataframe\">\n",
       "  <thead>\n",
       "    <tr style=\"text-align: right;\">\n",
       "      <th></th>\n",
       "      <th>caption</th>\n",
       "      <th>caption_raw</th>\n",
       "      <th>cartoon_bank_url</th>\n",
       "      <th>date</th>\n",
       "      <th>pn</th>\n",
       "      <th>src</th>\n",
       "    </tr>\n",
       "    <tr>\n",
       "      <th>id</th>\n",
       "      <th></th>\n",
       "      <th></th>\n",
       "      <th></th>\n",
       "      <th></th>\n",
       "      <th></th>\n",
       "      <th></th>\n",
       "    </tr>\n",
       "  </thead>\n",
       "  <tbody>\n",
       "    <tr>\n",
       "      <th>2831481</th>\n",
       "      <td>“Please compliment Stewart on the firewood. He...</td>\n",
       "      <td>&amp;ldquo;Please compliment Stewart on the firewo...</td>\n",
       "      <td></td>\n",
       "      <td>2014-09-16 14:20:00</td>\n",
       "      <td>aa39</td>\n",
       "      <td>https://www.newyorker.com/wp-content/uploads/1...</td>\n",
       "    </tr>\n",
       "    <tr>\n",
       "      <th>1550951</th>\n",
       "      <td>“Russ is the sort of person who never wants to...</td>\n",
       "      <td>&amp;ldquo;Russ is the sort of person who never wa...</td>\n",
       "      <td></td>\n",
       "      <td>2014-07-14 00:10:00</td>\n",
       "      <td>a18048</td>\n",
       "      <td>https://www.newyorker.com/wp-content/uploads/2...</td>\n",
       "    </tr>\n",
       "    <tr>\n",
       "      <th>2922743</th>\n",
       "      <td></td>\n",
       "      <td></td>\n",
       "      <td>http://www.condenaststore.com/-sp/_i13010768_.htm</td>\n",
       "      <td>2014-12-05 14:36:00</td>\n",
       "      <td>a18714</td>\n",
       "      <td>https://www.newyorker.com/wp-content/uploads/2...</td>\n",
       "    </tr>\n",
       "  </tbody>\n",
       "</table>\n",
       "</div>"
      ],
      "text/plain": [
       "                                                   caption  \\\n",
       "id                                                           \n",
       "2831481  “Please compliment Stewart on the firewood. He...   \n",
       "1550951  “Russ is the sort of person who never wants to...   \n",
       "2922743                                                      \n",
       "\n",
       "                                               caption_raw  \\\n",
       "id                                                           \n",
       "2831481  &ldquo;Please compliment Stewart on the firewo...   \n",
       "1550951  &ldquo;Russ is the sort of person who never wa...   \n",
       "2922743                                                      \n",
       "\n",
       "                                          cartoon_bank_url  \\\n",
       "id                                                           \n",
       "2831481                                                      \n",
       "1550951                                                      \n",
       "2922743  http://www.condenaststore.com/-sp/_i13010768_.htm   \n",
       "\n",
       "                       date      pn  \\\n",
       "id                                    \n",
       "2831481 2014-09-16 14:20:00    aa39   \n",
       "1550951 2014-07-14 00:10:00  a18048   \n",
       "2922743 2014-12-05 14:36:00  a18714   \n",
       "\n",
       "                                                       src  \n",
       "id                                                          \n",
       "2831481  https://www.newyorker.com/wp-content/uploads/1...  \n",
       "1550951  https://www.newyorker.com/wp-content/uploads/2...  \n",
       "2922743  https://www.newyorker.com/wp-content/uploads/2...  "
      ]
     },
     "execution_count": 31,
     "metadata": {},
     "output_type": "execute_result"
    }
   ],
   "source": [
    "df = pd.read_json(\"./cartoons.json\")\n",
    "df.drop_duplicates(inplace=True)\n",
    "df.set_index(\"id\", inplace=True)\n",
    "print(df.shape)\n",
    "df.head(3)"
   ]
  },
  {
   "cell_type": "markdown",
   "metadata": {},
   "source": [
    "## Download the cartoon images"
   ]
  },
  {
   "cell_type": "code",
   "execution_count": 32,
   "metadata": {},
   "outputs": [],
   "source": [
    "import urllib.request"
   ]
  },
  {
   "cell_type": "code",
   "execution_count": null,
   "metadata": {
    "scrolled": true
   },
   "outputs": [],
   "source": [
    "# Download the image for each cartoon\n",
    "errors = []\n",
    "for n, (index, row) in enumerate(df.iterrows()):\n",
    "    if n % 10 == 0:\n",
    "        print(f\"({n}/{len(df)}): {row.caption}\")\n",
    "    fn = f'{index}.{row.src.split(\".\")[-1]}'\n",
    "    try:\n",
    "        tup = urllib.request.urlretrieve(row.src, f\"./images_v02/{fn}\")\n",
    "    except Exception as e:\n",
    "        print(f\"ERROR ({n}/{len(df)}):\\n{e}\")\n",
    "        errors.append(e)\n",
    "        time.sleep(10)        \n",
    "    if len(errors) > 3:\n",
    "        break\n",
    "    time.sleep(3)"
   ]
  },
  {
   "cell_type": "markdown",
   "metadata": {},
   "source": [
    "## Display the images with their captions"
   ]
  },
  {
   "cell_type": "markdown",
   "metadata": {},
   "source": [
    "![cartoon](./images_v02/2815861.jpg)"
   ]
  },
  {
   "cell_type": "code",
   "execution_count": null,
   "metadata": {},
   "outputs": [],
   "source": [
    "\n",
    "\n",
    "\n",
    "\n",
    "\n",
    "\n",
    "\n",
    "\n",
    "\n",
    "\n",
    "\n",
    "\n",
    "\n",
    "\n",
    "\n",
    "\n",
    "\n",
    "\n",
    "\n",
    "\n",
    "\n",
    "\n"
   ]
  }
 ],
 "metadata": {
  "kernelspec": {
   "display_name": "Python 3",
   "language": "python",
   "name": "python3"
  },
  "language_info": {
   "codemirror_mode": {
    "name": "ipython",
    "version": 3
   },
   "file_extension": ".py",
   "mimetype": "text/x-python",
   "name": "python",
   "nbconvert_exporter": "python",
   "pygments_lexer": "ipython3",
   "version": "3.7.1"
  }
 },
 "nbformat": 4,
 "nbformat_minor": 2
}
